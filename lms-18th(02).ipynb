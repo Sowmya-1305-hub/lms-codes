{
 "cells": [
  {
   "cell_type": "code",
   "execution_count": 4,
   "id": "af4484e6",
   "metadata": {
    "scrolled": true
   },
   "outputs": [
    {
     "name": "stdout",
     "output_type": "stream",
     "text": [
      "Requirement already satisfied: requests in c:\\users\\soumya kemidi\\anaconda3\\lib\\site-packages (2.28.1)\n",
      "Requirement already satisfied: beautifulsoup4 in c:\\users\\soumya kemidi\\anaconda3\\lib\\site-packages (4.11.1)\n",
      "Requirement already satisfied: urllib3<1.27,>=1.21.1 in c:\\users\\soumya kemidi\\anaconda3\\lib\\site-packages (from requests) (1.26.11)\n",
      "Requirement already satisfied: idna<4,>=2.5 in c:\\users\\soumya kemidi\\anaconda3\\lib\\site-packages (from requests) (3.3)\n",
      "Requirement already satisfied: certifi>=2017.4.17 in c:\\users\\soumya kemidi\\anaconda3\\lib\\site-packages (from requests) (2022.9.14)\n",
      "Requirement already satisfied: charset-normalizer<3,>=2 in c:\\users\\soumya kemidi\\anaconda3\\lib\\site-packages (from requests) (2.0.4)\n",
      "Requirement already satisfied: soupsieve>1.2 in c:\\users\\soumya kemidi\\anaconda3\\lib\\site-packages (from beautifulsoup4) (2.3.1)\n"
     ]
    }
   ],
   "source": [
    "!pip install requests beautifulsoup4"
   ]
  },
  {
   "cell_type": "code",
   "execution_count": 3,
   "id": "a7613e56",
   "metadata": {},
   "outputs": [],
   "source": [
    "import requests\n",
    "\n",
    "from bs4 import BeautifulSoup\n",
    "\n",
    " \n",
    "\n",
    "# URL to scrape\n",
    "\n",
    "url = \"http://quotes.toscrape.com/\"\n",
    "\n",
    " \n",
    "\n",
    "# Send a GET request\n",
    "\n",
    "response = requests.get(url)"
   ]
  },
  {
   "cell_type": "code",
   "execution_count": 5,
   "id": "120ef414",
   "metadata": {},
   "outputs": [],
   "source": [
    "import requests\n",
    "\n",
    "from bs4 import BeautifulSoup\n",
    "\n",
    " \n",
    "\n",
    "# Define the city (e.g., New York)\n",
    "\n",
    "city = \"india/hyderabad\"\n",
    "\n",
    " \n",
    "\n",
    "# Weather URL\n",
    "\n",
    "url = f\"https://www.timeanddate.com/weather/{city}\"\n",
    "\n",
    " \n",
    "\n",
    "# Send GET request\n",
    "\n",
    "response = requests.get(url)\n",
    "\n",
    "soup = BeautifulSoup(response.text, 'html.parser')"
   ]
  },
  {
   "cell_type": "code",
   "execution_count": 6,
   "id": "6ed1c8a5",
   "metadata": {},
   "outputs": [
    {
     "name": "stdout",
     "output_type": "stream",
     "text": [
      "Current Weather in Hyderabad: 29 °C | Haze.\n"
     ]
    }
   ],
   "source": [
    "temp = soup.find(\"div\", class_=\"h2\").text.strip() if soup.find(\"div\", class_=\"h2\") else \"N/A\"\n",
    "\n",
    "desc = soup.find(\"p\").text.strip() if soup.find(\"p\") else \"N/A\"\n",
    "\n",
    " \n",
    "\n",
    "print(f\"Current Weather in Hyderabad: {temp} | {desc}\")"
   ]
  },
  {
   "cell_type": "code",
   "execution_count": 7,
   "id": "602dd639",
   "metadata": {},
   "outputs": [],
   "source": [
    "import requests\n",
    "\n",
    "from bs4 import BeautifulSoup\n",
    "\n",
    " \n",
    "\n",
    "# Product search URL (Example: iPhone)\n",
    "\n",
    "search_url = \"https://www.amazon.in/s?k=iphone&crid=PQVCJSNISAH4&sprefix=iphone%2Caps%2C233&ref=nb_sb_noss_2\"\n",
    "\n",
    " \n",
    "\n",
    "# Headers (Mimic a browser)\n",
    "\n",
    "headers = {\n",
    "\n",
    "    \"User-Agent\": \"Mozilla/5.0 (Windows NT 10.0; Win64; x64) AppleWebKit/537.36 (KHTML, like Gecko) Chrome/91.0.4472.124 Safari/537.36\"\n",
    "\n",
    "}"
   ]
  },
  {
   "cell_type": "code",
   "execution_count": 9,
   "id": "69b629e7",
   "metadata": {},
   "outputs": [
    {
     "name": "stdout",
     "output_type": "stream",
     "text": [
      "Could not find product details.\n"
     ]
    }
   ],
   "source": [
    "response = requests.get(search_url, headers=headers)\n",
    "\n",
    "soup = BeautifulSoup(response.text, \"html.parser\")\n",
    "product = soup.select_one(\"span.a-size-medium\")\n",
    "price = soup.select_one(\"span.a-price-whole\")\n",
    "if product and price:\n",
    "\n",
    "    print(f\"Product: {product.text.strip()}\")\n",
    "\n",
    "    print(f\"Price: ${price.text.strip()}\")\n",
    "\n",
    "else:\n",
    "\n",
    "    print(\"Could not find product details.\")"
   ]
  },
  {
   "cell_type": "code",
   "execution_count": 10,
   "id": "b14836ee",
   "metadata": {},
   "outputs": [],
   "source": [
    "import requests\n",
    "\n",
    "from bs4 import BeautifulSoup\n",
    "\n",
    " \n",
    "\n",
    "# Wikipedia page URL\n",
    "\n",
    "url = \"https://en.wikipedia.org/wiki/List_of_countries_and_dependencies_by_population\"\n",
    "\n",
    " \n",
    "\n",
    "# Send GET request\n",
    "\n",
    "response = requests.get(url,headers=headers)\n",
    "\n",
    "soup = BeautifulSoup(response.text, \"html.parser\")\n",
    "\n",
    " \n",
    "\n",
    "# Find the table\n",
    "\n",
    "table = soup.find(\"table\", class_=\"wikitable\")"
   ]
  },
  {
   "cell_type": "code",
   "execution_count": 11,
   "id": "816b8a72",
   "metadata": {},
   "outputs": [
    {
     "name": "stdout",
     "output_type": "stream",
     "text": [
      "World: 8,119,000,000\n",
      "China: 1,408,280,000\n",
      "1,402,737,000: 17.2%\n",
      "United States: 340,110,988\n",
      "Indonesia: 282,477,584\n"
     ]
    }
   ],
   "source": [
    "for row in table.find_all(\"tr\")[1:6]:  # Skip the header row\n",
    "\n",
    "    columns = row.find_all(\"td\")\n",
    "\n",
    "    country = columns[1].text.strip()\n",
    "\n",
    "    population = columns[2].text.strip()\n",
    "\n",
    "    \n",
    "\n",
    "    print(f\"{country}: {population}\")"
   ]
  },
  {
   "cell_type": "code",
   "execution_count": 12,
   "id": "a22dc339",
   "metadata": {},
   "outputs": [],
   "source": [
    "from IPython.display import display, HTML"
   ]
  },
  {
   "cell_type": "code",
   "execution_count": 13,
   "id": "268865bd",
   "metadata": {},
   "outputs": [
    {
     "data": {
      "text/html": [
       "<table>\n",
       "\n",
       "  <tr>\n",
       "\n",
       "    <th>Company</th>\n",
       "\n",
       "    <th>Contact</th>\n",
       "\n",
       "    <th>Country</th>\n",
       "\n",
       "  </tr>\n",
       "\n",
       "  <tr>\n",
       "\n",
       "    <td>Alfreds Futterkiste</td>\n",
       "\n",
       "    <td>Maria Anders</td>\n",
       "\n",
       "    <td>Germany</td>\n",
       "\n",
       "  </tr>\n",
       "\n",
       "  <tr>\n",
       "\n",
       "    <td>Centro comercial Moctezuma</td>\n",
       "\n",
       "    <td>Francisco Chang</td>\n",
       "\n",
       "    <td>Mexico</td>\n",
       "\n",
       "  </tr>\n",
       "\n",
       "</table>\n",
       "\n"
      ],
      "text/plain": [
       "<IPython.core.display.HTML object>"
      ]
     },
     "metadata": {},
     "output_type": "display_data"
    }
   ],
   "source": [
    "display(HTML(\"\"\"<table>\n",
    "\n",
    "  <tr>\n",
    "\n",
    "    <th>Company</th>\n",
    "\n",
    "    <th>Contact</th>\n",
    "\n",
    "    <th>Country</th>\n",
    "\n",
    "  </tr>\n",
    "\n",
    "  <tr>\n",
    "\n",
    "    <td>Alfreds Futterkiste</td>\n",
    "\n",
    "    <td>Maria Anders</td>\n",
    "\n",
    "    <td>Germany</td>\n",
    "\n",
    "  </tr>\n",
    "\n",
    "  <tr>\n",
    "\n",
    "    <td>Centro comercial Moctezuma</td>\n",
    "\n",
    "    <td>Francisco Chang</td>\n",
    "\n",
    "    <td>Mexico</td>\n",
    "\n",
    "  </tr>\n",
    "\n",
    "</table>\n",
    "\n",
    "\"\"\"))"
   ]
  },
  {
   "cell_type": "code",
   "execution_count": null,
   "id": "f6768c2e",
   "metadata": {},
   "outputs": [],
   "source": []
  }
 ],
 "metadata": {
  "kernelspec": {
   "display_name": "Python 3 (ipykernel)",
   "language": "python",
   "name": "python3"
  },
  "language_info": {
   "codemirror_mode": {
    "name": "ipython",
    "version": 3
   },
   "file_extension": ".py",
   "mimetype": "text/x-python",
   "name": "python",
   "nbconvert_exporter": "python",
   "pygments_lexer": "ipython3",
   "version": "3.9.13"
  }
 },
 "nbformat": 4,
 "nbformat_minor": 5
}
