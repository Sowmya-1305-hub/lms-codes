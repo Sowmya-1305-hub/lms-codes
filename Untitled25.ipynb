{
  "nbformat": 4,
  "nbformat_minor": 0,
  "metadata": {
    "colab": {
      "provenance": [],
      "authorship_tag": "ABX9TyP/VVLvl8ogJfHcBA020A4c",
      "include_colab_link": true
    },
    "kernelspec": {
      "name": "python3",
      "display_name": "Python 3"
    },
    "language_info": {
      "name": "python"
    }
  },
  "cells": [
    {
      "cell_type": "markdown",
      "metadata": {
        "id": "view-in-github",
        "colab_type": "text"
      },
      "source": [
        "<a href=\"https://colab.research.google.com/github/Sowmya-1305-hub/lms-codes/blob/main/Untitled25.ipynb\" target=\"_parent\"><img src=\"https://colab.research.google.com/assets/colab-badge.svg\" alt=\"Open In Colab\"/></a>"
      ]
    },
    {
      "cell_type": "code",
      "source": [
        "import google.generativeai as genai\n",
        "from google.colab import userdata\n"
      ],
      "metadata": {
        "id": "Mh9p1QFDdGCK"
      },
      "execution_count": 5,
      "outputs": []
    },
    {
      "cell_type": "code",
      "source": [
        "import google.generativeai as genai\n",
        "from google.colab import userdata\n",
        "Google_api_key = userdata.get('Google_api_key')\n",
        "genai.configure(api_key=Google_api_key)"
      ],
      "metadata": {
        "id": "rK08qnTmeEQS"
      },
      "execution_count": 9,
      "outputs": []
    },
    {
      "cell_type": "code",
      "source": [
        "import pathlib\n",
        "import textwrap\n",
        "\n",
        "from IPython.display import display, Markdown\n",
        "import pathlib\n",
        "import textwrap\n",
        "\n",
        "from IPython.display import display, Markdown\n",
        "def to_Markdown(text):\n",
        "  text = text.replace('.', '  *')\n",
        "  return Markdown(textwrap.indent(text, '> ', predicate=lambda _: True ))"
      ],
      "metadata": {
        "id": "RAeupVOte_b7"
      },
      "execution_count": 11,
      "outputs": []
    },
    {
      "cell_type": "code",
      "source": [
        "import PIL.Image\n",
        "img = PIL.Image.open(\"image1.jpg\")\n",
        "img\n",
        "model = genai.GenerativeModel('gemini-1.5-flash')\n",
        "response = model.generate_content([\"Write a short, engaging blog post based on this picture. It should include a description of the meal in the photo and talk about my journey meal prepping.\", img], stream=True)\n",
        "response.resolve()"
      ],
      "metadata": {
        "id": "B6p2G4LMfaAr"
      },
      "execution_count": 12,
      "outputs": []
    },
    {
      "cell_type": "code",
      "source": [
        "to_Markdown(response.text)"
      ],
      "metadata": {
        "colab": {
          "base_uri": "https://localhost:8080/",
          "height": 454
        },
        "id": "ToCc0pWNfgI1",
        "outputId": "22204b0c-59fe-4cbb-95a3-040e8b319b9f"
      },
      "execution_count": 13,
      "outputs": [
        {
          "output_type": "execute_result",
          "data": {
            "text/plain": [
              "<IPython.core.display.Markdown object>"
            ],
            "text/markdown": "> ## My Meal Prep Journey: From Chaos to Calm (and Delicious!)\n> \n> Look at this gorgeousness!  These aren't just any containers; they're my ticket to a healthier, happier, and *significantly* less stressful week  *  These are two of my delicious chicken and broccoli stir-fry meal preps, complete with fluffy white rice, vibrant carrots, and tender broccoli florets  * Each container is a perfectly portioned, ready-to-heat lunch or dinner  *\n> \n> \n> For months, I was stuck in the \"what's for dinner?\" panic spiral  *  Late nights meant takeout, and unhealthy choices crept into my routine  *  Then, I decided enough was enough  * My meal prep journey began with a hesitant Sunday afternoon and a single recipe  *  It was messy, time-consuming, and I almost gave up after the first attempt  * But something clicked  * I realized the satisfaction of having healthy, delicious meals waiting for me all week, saved me money and time and significantly reduced my stress levels  *\n> \n> \n> Now, meal prepping is my happy place  *  I plan my menus, shop strategically, and spend a couple of hours on the weekend prepping my meals for the week  *  The key is finding recipes I genuinely enjoy (this stir-fry is a current fave!), making the process efficient, and remembering that it's okay if it’s not perfect! I now look forward to my Sunday afternoons and how I can use my meal-prepping time to get organized and ahead of my busy week  *\n> \n> \n> What about you?  Are you a meal prep convert?  Share your tips and favorite recipes in the comments below!\n"
          },
          "metadata": {},
          "execution_count": 13
        }
      ]
    },
    {
      "cell_type": "code",
      "source": [
        "response = model.generate_content([\"Generate an accurate captionfor this image.\", img])\n",
        "print(response.text)"
      ],
      "metadata": {
        "colab": {
          "base_uri": "https://localhost:8080/",
          "height": 401
        },
        "id": "0-jtKc9AfpNn",
        "outputId": "b7508bc2-2fea-4e3e-f470-4b84044586bc"
      },
      "execution_count": 14,
      "outputs": [
        {
          "output_type": "stream",
          "name": "stdout",
          "text": [
            "Here are a few caption options for the image:\n",
            "\n",
            "**Option 1 (Simple & Descriptive):**\n",
            "\n",
            "> Healthy and delicious meal prep!  Chicken and broccoli stir-fry over rice.\n",
            "\n",
            "**Option 2 (More Engaging):**\n",
            "\n",
            "> Lunch goals!  These chicken and veggie bowls are packed with flavor and ready to go.  Perfect for busy weeknights. #mealprep #healthyfood #cleaneating\n",
            "\n",
            "**Option 3 (Focus on Convenience):**\n",
            "\n",
            "> Easy weeknight dinners just got easier.  Grab-and-go meal prep containers make healthy eating a breeze. #mealprepsunday #healthylifestyle #conveniencefood\n",
            "\n",
            "**Option 4 (Slightly More Detailed):**\n",
            "\n",
            "> Two delicious servings of chicken stir-fry with broccoli, carrots, and rice.  Perfect for a balanced and satisfying meal.\n",
            "\n",
            "\n",
            "Choose the caption that best suits your intended audience and platform.\n",
            "\n"
          ]
        }
      ]
    },
    {
      "cell_type": "code",
      "source": [
        "from PIL import Image\n",
        "image_path = \"girl.jpg\"\n",
        "image = Image.open(image_path)\n",
        "response = model.generate_content([\"Describe this image in detail.\", image])\n",
        "print(response.text)"
      ],
      "metadata": {
        "colab": {
          "base_uri": "https://localhost:8080/",
          "height": 263
        },
        "id": "qLiNshmJfspo",
        "outputId": "b57d6c70-358b-4ebf-9264-f6009939cfb6"
      },
      "execution_count": 15,
      "outputs": [
        {
          "output_type": "stream",
          "name": "stdout",
          "text": [
            "Here's a description of the image:\n",
            "\n",
            "Close-up view of a woman with shoulder-length, curly brown hair. \n",
            "\n",
            "\n",
            "She's wearing a teal or turquoise three-quarter sleeve top with a subtle gold pattern. The pattern appears to be a small, repeating floral or paisley design. \n",
            "\n",
            "\n",
            "The woman is smiling and pointing with her right index finger, suggesting she's making a point or drawing attention to something off-camera. Her arms are crossed, with her left arm over her right. She appears to be of South Asian descent. \n",
            "\n",
            "\n",
            "The background is a plain, bright white, which keeps the focus entirely on the woman. The overall impression is one of approachability and friendliness. The lighting is even and soft, minimizing harsh shadows.\n",
            "\n"
          ]
        }
      ]
    },
    {
      "cell_type": "code",
      "source": [
        "response = model.generate_content([\"What emotions can you detect in this image?.\", img])\n",
        "print(response.text)"
      ],
      "metadata": {
        "colab": {
          "base_uri": "https://localhost:8080/",
          "height": 211
        },
        "id": "jpeQ5rrvhez4",
        "outputId": "4ddd3955-d8af-440a-9d9b-97a8249cea03"
      },
      "execution_count": 16,
      "outputs": [
        {
          "output_type": "stream",
          "name": "stdout",
          "text": [
            "The image evokes feelings of:\n",
            "\n",
            "* **Appetite/Hunger:** The food is visually appealing, showing colorful, healthy ingredients.  This naturally stimulates hunger and a desire to eat.\n",
            "* **Health/Wellbeing:** The meal appears to be nutritious and balanced, suggesting a feeling of health consciousness.\n",
            "* **Preparation/Planning:** The food is neatly portioned in containers, implying organization and forward-thinking meal preparation.  This could evoke feelings of satisfaction or accomplishment.\n",
            "* **Calmness/Serenity:** The overall aesthetic is simple and clean.  The muted background and the food presentation contribute to a sense of calm.\n",
            "\n",
            "\n",
            "It's important to note that these are emotional responses the image might elicit in a viewer, rather than emotions directly present *within* the image itself.  The image itself is inanimate.\n",
            "\n"
          ]
        }
      ]
    }
  ]
}