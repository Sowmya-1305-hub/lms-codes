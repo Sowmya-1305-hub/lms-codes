{
  "nbformat": 4,
  "nbformat_minor": 0,
  "metadata": {
    "colab": {
      "provenance": [],
      "authorship_tag": "ABX9TyN3hG/eJU3sy6YMMKdBFqs2",
      "include_colab_link": true
    },
    "kernelspec": {
      "name": "python3",
      "display_name": "Python 3"
    },
    "language_info": {
      "name": "python"
    }
  },
  "cells": [
    {
      "cell_type": "markdown",
      "metadata": {
        "id": "view-in-github",
        "colab_type": "text"
      },
      "source": [
        "<a href=\"https://colab.research.google.com/github/Sowmya-1305-hub/lms-codes/blob/main/lms_13th(mar).ipynb\" target=\"_parent\"><img src=\"https://colab.research.google.com/assets/colab-badge.svg\" alt=\"Open In Colab\"/></a>"
      ]
    },
    {
      "cell_type": "code",
      "source": [
        "import google.generativeai as genai\n",
        "from google.colab import userdata\n"
      ],
      "metadata": {
        "id": "Mh9p1QFDdGCK"
      },
      "execution_count": 8,
      "outputs": []
    },
    {
      "cell_type": "code",
      "source": [],
      "metadata": {
        "id": "e9FxqEOuMjN7"
      },
      "execution_count": null,
      "outputs": []
    },
    {
      "cell_type": "code",
      "source": [
        "import google.generativeai as genai\n",
        "from google.colab import userdata\n",
        "Google_api_key = userdata.get('Google_api_key')\n",
        "genai.configure(api_key=Google_api_key)"
      ],
      "metadata": {
        "id": "rK08qnTmeEQS"
      },
      "execution_count": 9,
      "outputs": []
    },
    {
      "cell_type": "code",
      "source": [
        "import pathlib\n",
        "import textwrap\n",
        "\n",
        "from IPython.display import display, Markdown\n",
        "import pathlib\n",
        "import textwrap\n",
        "\n",
        "from IPython.display import display, Markdown\n",
        "def to_Markdown(text):\n",
        "  text = text.replace('.', '  *')\n",
        "  return Markdown(textwrap.indent(text, '> ', predicate=lambda _: True ))"
      ],
      "metadata": {
        "id": "RAeupVOte_b7"
      },
      "execution_count": 10,
      "outputs": []
    },
    {
      "cell_type": "code",
      "source": [
        "import PIL.Image\n",
        "img = PIL.Image.open(\"image1.jpg\")\n",
        "img\n",
        "model = genai.GenerativeModel('gemini-1.5-flash')\n",
        "response = model.generate_content([\"Write a short, engaging blog post based on this picture. It should include a description of the meal in the photo and talk about my journey meal prepping.\", img], stream=True)\n",
        "response.resolve()"
      ],
      "metadata": {
        "id": "B6p2G4LMfaAr"
      },
      "execution_count": 12,
      "outputs": []
    },
    {
      "cell_type": "code",
      "source": [
        "to_Markdown(response.text)"
      ],
      "metadata": {
        "colab": {
          "base_uri": "https://localhost:8080/",
          "height": 443
        },
        "id": "ToCc0pWNfgI1",
        "outputId": "d440e143-c6a6-47db-959d-a66c82093ed8"
      },
      "execution_count": 13,
      "outputs": [
        {
          "output_type": "execute_result",
          "data": {
            "text/plain": [
              "<IPython.core.display.Markdown object>"
            ],
            "text/markdown": "> ## My Meal Prep Journey: From Chaos to Deliciously Organized!\n> \n> Look at these beauties!  These aren't just any lunch containers; they're my ticket to a healthy and stress-free week  *  Each one is packed with a delicious and balanced meal: fluffy white rice, tender teriyaki chicken, vibrant roasted red peppers and carrots, and a generous helping of steamed broccoli  * It's a flavour explosion in every bite, and it's all ready to go!\n> \n> My journey with meal prepping hasn't always been this picture-perfect  * It started with chaotic Sunday afternoons spent frantically throwing together whatever I could find in the fridge, resulting in inconsistent portions and a lot of food waste  *  Sound familiar?\n> \n> But then I decided enough was enough! I started small, planning just one or two meals a week  * I found some fantastic recipes online (I'll share some links in the comments!), and I invested in some good quality storage containers – like the ones in the picture! \n> \n> The change has been incredible  *  Not only am I eating healthier and more consistently, but I’m saving money and so much time!  No more frantic lunchtime scrambles or last-minute takeout orders  *  It’s truly been a game-changer  *\n> \n> So, if you're thinking about starting your own meal prep journey, don't hesitate! Start small, plan ahead, and find recipes you genuinely enjoy  *  You'll be surprised how rewarding it is to have delicious, healthy meals ready to go all week long  *  And who knows, you might even find yourself snapping some pretty food pics too!\n"
          },
          "metadata": {},
          "execution_count": 13
        }
      ]
    },
    {
      "cell_type": "code",
      "source": [
        "response = model.generate_content([\"Generate an accurate captionfor this image.\", img])\n",
        "print(response.text)"
      ],
      "metadata": {
        "colab": {
          "base_uri": "https://localhost:8080/",
          "height": 401
        },
        "id": "0-jtKc9AfpNn",
        "outputId": "14c5f4b0-0eae-45c9-c675-efb6d1a183e6"
      },
      "execution_count": 14,
      "outputs": [
        {
          "output_type": "stream",
          "name": "stdout",
          "text": [
            "Here are a few caption options for the image:\n",
            "\n",
            "**Option 1 (Simple & Descriptive):**\n",
            "\n",
            "> Healthy and delicious meal prep!  Chicken and broccoli with rice.\n",
            "\n",
            "**Option 2 (More Engaging):**\n",
            "\n",
            "> Lunch goals!  These chicken and veggie bowls are packed with flavor and ready to go.  #mealprep #healthyfood #lunchideas\n",
            "\n",
            "**Option 3 (Focus on Convenience):**\n",
            "\n",
            "> Easy weeknight dinners?  Check!  These make-ahead meal prep containers are perfect for busy schedules. #mealprepping #healthylifestyle #convenientmeals\n",
            "\n",
            "**Option 4 (Slightly More Detailed):**\n",
            "\n",
            "> Teriyaki chicken and broccoli over rice.  The perfect balance of protein, veggies, and carbs for a satisfying and healthy meal. #teriyaki #chickenandbroccoli #healthyrecipe\n",
            "\n",
            "\n",
            "Choose the caption that best fits your intended audience and platform.\n",
            "\n"
          ]
        }
      ]
    },
    {
      "cell_type": "code",
      "source": [
        "from PIL import Image\n",
        "image_path = \"girl.jpg\"\n",
        "image = Image.open(image_path)\n",
        "response = model.generate_content([\"Describe this image in detail.\", image])\n",
        "print(response.text)"
      ],
      "metadata": {
        "colab": {
          "base_uri": "https://localhost:8080/",
          "height": 263
        },
        "id": "qLiNshmJfspo",
        "outputId": "176b1358-e760-4b0a-e8e8-4c7adb9dd37a"
      },
      "execution_count": 15,
      "outputs": [
        {
          "output_type": "stream",
          "name": "stdout",
          "text": [
            "Here's a description of the image:\n",
            "\n",
            "Close-up view of a woman with shoulder-length, curly brown hair. \n",
            "\n",
            "\n",
            "She's smiling and gesturing with her right hand, index finger extended, as if pointing or indicating something off-camera. Her left arm is crossed over her body. \n",
            "\n",
            "\n",
            "She is wearing a teal blue three-quarter-sleeved kurta or tunic. The kurta has a small, repeated pattern in a gold or light metallic color, seemingly floral or paisley-inspired. The neckline is a simple, modest V-neck or henley-style opening. \n",
            "\n",
            "\n",
            "The background is a plain, bright white, which makes the woman and her clothing stand out clearly. The overall lighting is soft and even, creating a clean and bright image. The woman appears to be of South Asian descent. Her expression is friendly and approachable.\n",
            "\n"
          ]
        }
      ]
    },
    {
      "cell_type": "code",
      "source": [
        "response = model.generate_content([\"What emotions can you detect in this image?.\", img])\n",
        "print(response.text)"
      ],
      "metadata": {
        "colab": {
          "base_uri": "https://localhost:8080/",
          "height": 211
        },
        "id": "jpeQ5rrvhez4",
        "outputId": "b6112708-6a4e-4b3b-af0d-81aff7dfe3f4"
      },
      "execution_count": 16,
      "outputs": [
        {
          "output_type": "stream",
          "name": "stdout",
          "text": [
            "The image evokes feelings of:\n",
            "\n",
            "* **Appetite/Hunger:** The colorful, healthy-looking food is visually appealing and likely to stimulate hunger.\n",
            "* **Preparation/Organization:**  The food is neatly portioned in containers, suggesting planning and preparation, which could evoke feelings of satisfaction or control.\n",
            "* **Health/Well-being:** The ingredients (broccoli, carrots, chicken, rice) suggest a healthy meal, possibly inducing feelings of well-being or health consciousness.\n",
            "* **Calmness/Serenity:** The overall presentation is clean and simple, which could create a sense of peacefulness.\n",
            "\n",
            "\n",
            "The image does not evoke strong negative emotions. There's nothing jarring or unpleasant in the visual presentation.\n",
            "\n"
          ]
        }
      ]
    },
    {
      "cell_type": "code",
      "source": [
        "# Open an image (change 'logo.jpg' to your actual file)\n",
        "\n",
        "image_path = \"logo1.jpg\"\n",
        "\n",
        "image = Image.open(image_path)\n",
        "\n",
        "# Ask Gemini to recognize the brand/logo\n",
        "\n",
        "response = model.generate_content([\"Identify the brand or company associated with this logo.\", image])\n",
        "\n",
        "print(response.text)"
      ],
      "metadata": {
        "colab": {
          "base_uri": "https://localhost:8080/",
          "height": 52
        },
        "id": "VyOqHZBCOri_",
        "outputId": "538a866a-7ac4-4cdd-d9cb-a8c72afd7805"
      },
      "execution_count": 17,
      "outputs": [
        {
          "output_type": "stream",
          "name": "stdout",
          "text": [
            "That's the logo for **Amazon**.\n",
            "\n"
          ]
        }
      ]
    },
    {
      "cell_type": "code",
      "source": [
        "import google.generativeai as genai\n",
        "\n",
        "from google.colab import userdata\n",
        "\n",
        "Google_api_key=userdata.get('Google_api_key')\n",
        "\n",
        "genai.configure(api_key=Google_api_key)"
      ],
      "metadata": {
        "id": "c15kcKgmPm8h"
      },
      "execution_count": 19,
      "outputs": []
    },
    {
      "cell_type": "code",
      "source": [
        "response = model.generate_content([\"Suggest similar products to this one.\", image])\n",
        "\n",
        "print(response.text)"
      ],
      "metadata": {
        "colab": {
          "base_uri": "https://localhost:8080/",
          "height": 228
        },
        "id": "m_DxrSdpP4jo",
        "outputId": "097d5497-2e79-4769-826b-a7e35dccc33b"
      },
      "execution_count": 20,
      "outputs": [
        {
          "output_type": "stream",
          "name": "stdout",
          "text": [
            "The image is the logo for Amazon.  Therefore, similar products are other major e-commerce companies.  Examples include:\n",
            "\n",
            "* **eBay:** A large online marketplace featuring auctions and fixed-price listings from various sellers.\n",
            "* **Walmart:**  A large retailer with a substantial online presence selling a wide variety of goods.\n",
            "* **Target:** Similar to Walmart, offering a broad range of products online and in-store.\n",
            "* **Alibaba:** A massive Chinese e-commerce company focusing on business-to-business transactions, though also offering consumer-facing platforms.\n",
            "* **Etsy:**  Focuses on handmade, vintage, and craft supplies.\n",
            "\n",
            "\n",
            "These are all examples of companies that offer online retail services, though they each have different focuses and target audiences.\n",
            "\n"
          ]
        }
      ]
    },
    {
      "cell_type": "code",
      "source": [
        "# Open an image containing a price\n",
        "\n",
        "image_path = \"invoice.jpg\"  # Change to your image file\n",
        "\n",
        "image = Image.open(image_path)\n",
        "\n",
        "# Ask Gemini AI to extract the price\n",
        "\n",
        "response = model.generate_content([\"Extract the price from this image.\", image])\n",
        "\n",
        "print(response.text)"
      ],
      "metadata": {
        "colab": {
          "base_uri": "https://localhost:8080/",
          "height": 54
        },
        "id": "rpFQtZ7FQS-z",
        "outputId": "3a1264b9-3e72-4b74-f1da-abd0d72bf8fe"
      },
      "execution_count": 21,
      "outputs": [
        {
          "output_type": "stream",
          "name": "stdout",
          "text": [
            "The price of each item is $10.00.  The subtotal is $100.00, with a 10% tax, resulting in a grand total of $100.00.\n"
          ]
        }
      ]
    },
    {
      "cell_type": "code",
      "source": [
        "response = model.generate_content([\"Extract the price, currency, and any discounts from this image.\", image])\n",
        "\n",
        "print(response.text)"
      ],
      "metadata": {
        "colab": {
          "base_uri": "https://localhost:8080/",
          "height": 104
        },
        "id": "1ClfwNLESvqm",
        "outputId": "c88d6b58-8105-4e69-ba90-e49a38acdc67"
      },
      "execution_count": 22,
      "outputs": [
        {
          "output_type": "stream",
          "name": "stdout",
          "text": [
            "Here's the extracted information from the image:\n",
            "\n",
            "* **Price:** $10.00 (per item)\n",
            "* **Currency:** USD ($)\n",
            "* **Discounts:** None.  There is a 10% tax applied, but no discounts are shown.\n"
          ]
        }
      ]
    },
    {
      "cell_type": "code",
      "source": [
        "image_path = \"bicycle.jpg\"\n",
        "image = Image.open(image_path)\n",
        "response = model.generate_content([\"identify all objects in this image.\", image])\n",
        "print(response.text)"
      ],
      "metadata": {
        "colab": {
          "base_uri": "https://localhost:8080/",
          "height": 211
        },
        "id": "uyro-tI0TlLz",
        "outputId": "9d26eebf-5afc-45ed-d149-e4c912ed8906"
      },
      "execution_count": 23,
      "outputs": [
        {
          "output_type": "stream",
          "name": "stdout",
          "text": [
            "Here's a list of the objects I can identify in the image:\n",
            "\n",
            "* **Two men:**  Riding bicycles. One is wearing a blue shirt and camouflage shorts, the other is wearing a grey long-sleeved shirt and jeans and a red cap.\n",
            "* **Two bicycles:**  Both appear to be hybrid or city bikes. One is predominantly black and yellow, the other is white.\n",
            "* **A motorcycle:** Parked on the left side of the image.\n",
            "* **A building:** In the background, it appears to be a shop or commercial building with a roller shutter door and windows.\n",
            "* **A man sitting inside the building:** Partially visible in the background.\n",
            "* **Chairs:** Inside the building, two chairs can be seen.\n",
            "* **Street:** The wet street where the men are cycling.\n",
            "* **Vegetation:** Some grass can be seen along the street.\n"
          ]
        }
      ]
    },
    {
      "cell_type": "code",
      "source": [
        "image = Image.open(\"items.jpg\")\n",
        "\n",
        "response = model.generate_content([\"List all objects in this image and count how many of each are present.\", image])\n",
        "\n",
        "print(response.text)"
      ],
      "metadata": {
        "colab": {
          "base_uri": "https://localhost:8080/",
          "height": 503
        },
        "id": "RnFkb4RaU-N2",
        "outputId": "085de426-bf29-467f-c65c-9f87c8330d52"
      },
      "execution_count": 24,
      "outputs": [
        {
          "output_type": "stream",
          "name": "stdout",
          "text": [
            "Here's a count of the objects in the image:\n",
            "\n",
            "**Countables:**\n",
            "\n",
            "* Eggs: 3\n",
            "* Banana: 1\n",
            "* Olive: 2\n",
            "* Fries: 1 (portion)\n",
            "* Burger: 1\n",
            "* Hot dog: 1\n",
            "* Apple: 1\n",
            "* Carrots: 2\n",
            "* Tomatoes: 3\n",
            "* Watermelon: 1\n",
            "\n",
            "\n",
            "**Uncountables:**\n",
            "\n",
            "* Milk: 1 (container)\n",
            "* Flour: 1 (bag)\n",
            "* Salt: 1 (container)\n",
            "* Sugar: 1 (container)\n",
            "* Jam: 1 (jar)\n",
            "* Meat: 2 (slices)\n",
            "* Rice: 1 (bowl)\n",
            "* Honey: 1 (jar)\n",
            "* Tea: 1 (cup)\n",
            "* Cheese: 1 (slice)\n"
          ]
        }
      ]
    },
    {
      "cell_type": "code",
      "source": [
        "pip install youtube-transcript-api pytube"
      ],
      "metadata": {
        "colab": {
          "base_uri": "https://localhost:8080/"
        },
        "id": "iM9B8wQgVBkQ",
        "outputId": "41e3bf11-cefc-477c-cabf-bcd6dde40bd5"
      },
      "execution_count": 26,
      "outputs": [
        {
          "output_type": "stream",
          "name": "stdout",
          "text": [
            "Requirement already satisfied: youtube-transcript-api in /usr/local/lib/python3.11/dist-packages (1.0.1)\n",
            "Requirement already satisfied: pytube in /usr/local/lib/python3.11/dist-packages (15.0.0)\n",
            "Requirement already satisfied: defusedxml<0.8.0,>=0.7.1 in /usr/local/lib/python3.11/dist-packages (from youtube-transcript-api) (0.7.1)\n",
            "Requirement already satisfied: requests in /usr/local/lib/python3.11/dist-packages (from youtube-transcript-api) (2.32.3)\n",
            "Requirement already satisfied: charset-normalizer<4,>=2 in /usr/local/lib/python3.11/dist-packages (from requests->youtube-transcript-api) (3.4.1)\n",
            "Requirement already satisfied: idna<4,>=2.5 in /usr/local/lib/python3.11/dist-packages (from requests->youtube-transcript-api) (3.10)\n",
            "Requirement already satisfied: urllib3<3,>=1.21.1 in /usr/local/lib/python3.11/dist-packages (from requests->youtube-transcript-api) (2.3.0)\n",
            "Requirement already satisfied: certifi>=2017.4.17 in /usr/local/lib/python3.11/dist-packages (from requests->youtube-transcript-api) (2025.1.31)\n"
          ]
        }
      ]
    },
    {
      "cell_type": "code",
      "source": [
        "from youtube_transcript_api import YouTubeTranscriptApi\n",
        "\n",
        "def get_youtube_transcript(video_url):\n",
        "\n",
        "    \"\"\"Fetches the transcript of a YouTube video.\"\"\"\n",
        "\n",
        "    video_id = video_url.split(\"v=\")[1].split(\"&\")[0]  # Extract video ID\n",
        "\n",
        "    transcript = YouTubeTranscriptApi.get_transcript(video_id)\n",
        "\n",
        "    full_text = \" \".join([t[\"text\"] for t in transcript])\n",
        "\n",
        "    return full_text\n",
        "\n",
        "# Example Usage\n",
        "\n",
        "video_url = \"https://www.youtube.com/watch?v=unYDoA8QGH0&list=PLWEpztHwA4ZT2QlHC74oIz4MsawcvE-QX\"\n",
        "\n",
        "video_transcript = get_youtube_transcript(video_url)\n",
        "\n",
        "print(\"Transcript:\\n\", video_transcript[:500])  # Show first 500 characters\n",
        "\n",
        "\n",
        "\n",
        "\n"
      ],
      "metadata": {
        "colab": {
          "base_uri": "https://localhost:8080/"
        },
        "id": "LkJvaJDlVGYM",
        "outputId": "0f49b3a1-1ed9-4722-96d4-aa0305abf2b6"
      },
      "execution_count": 27,
      "outputs": [
        {
          "output_type": "stream",
          "name": "stdout",
          "text": [
            "Transcript:\n",
            " hi guys today I'm going to introduce you what is machine learning uh these are my presentation content what is machine learning what are the different applications of machine learning different types of machine learning and how to build a machine learning system or model then various kinds of algorithms and later on in this series we are going to take a Hands-On you know case studies or doing programming for various kinds of up algorithms so what is machine learning so machine learning is nothin\n"
          ]
        }
      ]
    },
    {
      "cell_type": "code",
      "source": [
        "# Configure Gemini API\n",
        "\n",
        "import google.generativeai as genai\n",
        "\n",
        "from google.colab import userdata\n",
        "\n",
        "Google_api_key=userdata.get('Google_api_key')\n",
        "\n",
        "genai.configure(api_key=Google_api_key)\n",
        "\n",
        "\n",
        "\n",
        "\n"
      ],
      "metadata": {
        "id": "tJel2H5_WjfH"
      },
      "execution_count": 29,
      "outputs": []
    },
    {
      "cell_type": "code",
      "source": [
        "def summarize_video(text):\n",
        "\n",
        "    \"\"\"Summarizes the YouTube video transcript using Gemini AI.\"\"\"\n",
        "\n",
        "    model = genai.GenerativeModel(\"gemini-1.5-flash\")\n",
        "\n",
        "    prompt = f\"Summarize the following YouTube video transcript:\\n\\n{text}\"\n",
        "\n",
        "    response = model.generate_content(prompt)\n",
        "\n",
        "    return response.text\n",
        "\n",
        "summary = summarize_video(video_transcript)\n",
        "\n",
        "print(\"Summary:\\n\", summary)\n",
        "\n",
        "\n",
        "\n",
        "\n"
      ],
      "metadata": {
        "colab": {
          "base_uri": "https://localhost:8080/",
          "height": 89
        },
        "id": "Hw9dkqJQWwY7",
        "outputId": "34a4cad0-73de-45e6-9206-b6057f8ff966"
      },
      "execution_count": 34,
      "outputs": [
        {
          "output_type": "stream",
          "name": "stdout",
          "text": [
            "Summary:\n",
            " This YouTube video introduces machine learning, covering its definition, applications, types, and the process of building a machine learning model.  Machine learning is defined as learning from data, a subfield of AI enabling smarter applications.  The video highlights applications in speech recognition, web search, recommendation systems, computer vision, information retrieval, and fraud detection.  Three main types of machine learning are explained: supervised (predicting known outcomes from labeled data, including classification and regression), unsupervised (exploring unlabeled data, such as clustering and dimensionality reduction), and reinforcement learning (an agent learning through continuous activities and rewards/penalties).  The video outlines the steps in building a machine learning model: data preprocessing (cleaning, scaling, encoding, feature selection), algorithm selection (choosing appropriate algorithms like decision trees or K-nearest neighbors), model building, and evaluation.  The presenter promises future videos with hands-on case studies and algorithm implementation.\n",
            "\n"
          ]
        }
      ]
    },
    {
      "cell_type": "code",
      "source": [],
      "metadata": {
        "id": "P-KlBTy0X7m2"
      },
      "execution_count": null,
      "outputs": []
    },
    {
      "cell_type": "code",
      "source": [
        "def extract_video_insights(text):\n",
        "\n",
        "    \"\"\"Extracts key insights from the YouTube video transcript.\"\"\"\n",
        "\n",
        "    model = genai.GenerativeModel(\"gemini-1.5-flash\")\n",
        "\n",
        "    prompt = f\"Extract the key takeaways and insights from this YouTube video:\\n\\n{text}\"\n",
        "\n",
        "    response = model.generate_content(prompt)\n",
        "\n",
        "    return response.text\n",
        "\n",
        "insights = extract_video_insights(video_transcript)\n",
        "\n",
        "print(\"Key Insights:\\n\", insights)\n",
        "\n",
        "\n",
        "\n",
        "\n"
      ],
      "metadata": {
        "colab": {
          "base_uri": "https://localhost:8080/",
          "height": 957
        },
        "id": "bbtG-oAgXo6B",
        "outputId": "0c2f5a2b-f828-42d5-87b1-c76844c77597"
      },
      "execution_count": 33,
      "outputs": [
        {
          "output_type": "stream",
          "name": "stdout",
          "text": [
            "Key Insights:\n",
            " This YouTube video provides an introduction to machine learning. Here are the key takeaways and insights:\n",
            "\n",
            "**What is Machine Learning?**\n",
            "\n",
            "* **Definition:** Machine learning is essentially learning from data.  It's a subfield of artificial intelligence that enables smarter applications by allowing computers to learn patterns and make predictions without explicit programming.  The process involves using past data (\"training data\" or \"experience\") to build a model that can predict future outcomes.\n",
            "* **Key Concept:**  The core idea is that a machine learning algorithm takes data as input, learns from it, and produces a model that can then be used to make predictions or decisions on new, unseen data.\n",
            "* **Arthur Samuel's Definition:**  The video cites Arthur Samuel's definition:  a field of study that gives computers the ability to learn without being explicitly programmed.\n",
            "\n",
            "**Applications of Machine Learning:**\n",
            "\n",
            "The video highlights several diverse applications:\n",
            "\n",
            "* **Speech Recognition:**  Powering virtual assistants like Siri and Google Assistant.\n",
            "* **Web Search:**  Improving the relevance of search results (using algorithms like Naive Bayes).\n",
            "* **Recommendation Systems:**  Suggesting products or content based on user preferences.\n",
            "* **Computer Vision:**  Analyzing images and videos to identify objects and understand content.\n",
            "* **Information Retrieval:**  Processing large amounts of data to find relevant information (as in Google search).\n",
            "* **Fraud Detection:** Identifying malicious activities online.\n",
            "\n",
            "\n",
            "**Types of Machine Learning:**\n",
            "\n",
            "The video outlines three main types:\n",
            "\n",
            "* **Supervised Learning:** The algorithm learns from labeled data where the desired output is known.  This is further divided into:\n",
            "    * **Classification:** Predicting a categorical outcome (e.g., spam/not spam).\n",
            "    * **Regression:** Predicting a continuous outcome (e.g., house price).\n",
            "* **Unsupervised Learning:** The algorithm learns from unlabeled data, identifying patterns and structures without predefined outputs. Examples include clustering and dimensionality reduction.\n",
            "* **Reinforcement Learning:** The algorithm learns through trial and error, receiving rewards or penalties for its actions in an environment.  This is common in game AI and robotics.\n",
            "\n",
            "\n",
            "**Building a Machine Learning Model:**\n",
            "\n",
            "The video describes a typical workflow:\n",
            "\n",
            "1. **Data Preprocessing:** Cleaning, scaling, encoding, and selecting relevant features from the raw data.\n",
            "2. **Algorithm Selection:** Choosing an appropriate algorithm (e.g., decision tree, random forest, k-nearest neighbors) based on the problem type (classification, regression) and data characteristics.\n",
            "3. **Model Building:** Training the chosen algorithm on the prepared data to create a predictive model.\n",
            "4. **Model Evaluation:** Assessing the model's accuracy and performance using various metrics.  The presenter emphasizes building multiple models and comparing their performance.\n",
            "\n",
            "\n",
            "**Important Terminology:**\n",
            "\n",
            "The video clarifies several key terms used in machine learning, including:\n",
            "\n",
            "* **Features/Attributes:** Columns in a dataset (excluding the target variable).\n",
            "* **Target Variable/Response Variable:** The column representing the outcome to be predicted.\n",
            "* **Samples/Instances/Observations:** Rows in a dataset.\n",
            "\n",
            "\n",
            "**Next Steps:**  The video concludes by suggesting that the next steps for viewers are to learn and implement the algorithms discussed, emphasizing hands-on practice with datasets like the Iris dataset.\n",
            "\n"
          ]
        }
      ]
    },
    {
      "cell_type": "code",
      "source": [
        "def ask_question_about_video(text, question):\n",
        "\n",
        "    \"\"\"Answers user questions about the YouTube video content.\"\"\"\n",
        "\n",
        "    model = genai.GenerativeModel(\"gemini-1.5-flash\")\n",
        "\n",
        "    prompt = f\"The following is a YouTube video transcript:\\n\\n{text}\\n\\nAnswer this question based on the content:\\n{question}\"\n",
        "\n",
        "    response = model.generate_content(prompt)\n",
        "\n",
        "    return response.text\n",
        "\n",
        "question = \"What is the main topic discussed in the video?\"\n",
        "\n",
        "answer = ask_question_about_video(video_transcript, question)\n",
        "\n",
        "print(\"Answer:\\n\", answer)\n",
        "\n",
        "\n",
        "\n",
        "\n"
      ],
      "metadata": {
        "colab": {
          "base_uri": "https://localhost:8080/",
          "height": 89
        },
        "id": "SVQPlUIhX8uY",
        "outputId": "76e00766-7a17-44a0-f310-49e364329d8e"
      },
      "execution_count": 35,
      "outputs": [
        {
          "output_type": "stream",
          "name": "stdout",
          "text": [
            "Answer:\n",
            " The main topic of the YouTube video is an introduction to machine learning.  The speaker covers what machine learning is, its various applications, different types of machine learning (supervised, unsupervised, and reinforcement learning), and the process of building a machine learning model.  The video also touches upon specific algorithms and promises future videos with hands-on case studies and programming examples.\n",
            "\n"
          ]
        }
      ]
    }
  ]
}